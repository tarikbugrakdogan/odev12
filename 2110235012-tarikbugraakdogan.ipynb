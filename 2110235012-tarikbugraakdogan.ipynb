{
 "cells": [
  {
   "cell_type": "markdown",
   "id": "218d9537",
   "metadata": {},
   "source": [
    "    Cushing Sendromu Vücutta Kortizol seviyesinin referans değerden fazla olması sonucu oluşur.\n",
    "\n",
    "Hipofiz bezinden salgılanan ACTH hormonu kortizol salınımını tetikler ACTH hormonun fazla salınımı ile de tetiklenebilir.\n",
    "Yüksek miktarda ACTH hormonu üretimine neden olan beyindeki hipofiz bezinin tümörleri\n",
    "Akciğer, pankreas ve tiroid bezinin bazı tümörleri\n",
    "Böbrek üstü bezinin fazla çalışması ya da tümörleri sebep olabilir. \n",
    "     \n",
    "   Kas ve Protein yıkımına sebep olur,vücutta yağ birikmesi,Ay dede yüz ve bufalo boynu gibi belirtileri vardır\n",
    "    \n",
    "   3 Tahlil yöntemi vardır\n",
    "İdrar yoluyla,tükürük yoluya Ve kan yoluyla gözlemlenebilir\n",
    "\n",
    "Aşğıdaki Program 24 Saatlik idrar Yoluyla Ortalamadan yüksek çıkan kortizol seviyesini tespit edip teşhis koymak için tasarlanmıştır"
   ]
  },
  {
   "cell_type": "code",
   "execution_count": 4,
   "id": "21134a65",
   "metadata": {},
   "outputs": [
    {
     "name": "stdout",
     "output_type": "stream",
     "text": [
      "Lütfen sabah, öğlen ve gece için kortizol seviyelerini giriniz:\n",
      "1. sabah kortizol seviyesini giriniz (mikrogram): 30\n",
      "1. öğlen kortizol seviyesini giriniz (mikrogram): 40\n",
      "1. gece kortizol seviyesini giriniz (mikrogram): 10\n",
      "Ortalama kortizol seviyesi 26.666666666666668 mikrogram. Cushing sendromu olma olasılığı düşük.\n"
     ]
    }
   ],
   "source": [
    "print(\"Lütfen sabah, öğlen ve gece için kortizol seviyelerini giriniz:\")\n",
    "\n",
    "toplam_sabah = 0\n",
    "toplam_oglen = 0\n",
    "toplam_gece = 0\n",
    "\n",
    "for i in range(1):  # İstersek daha fazla sayı girebiliriz.\n",
    "    try:\n",
    "        sabah = float(input(f\"{i+1}. sabah kortizol seviyesini giriniz (mikrogram): \"))\n",
    "        toplam_sabah += sabah\n",
    "        \n",
    "        oglen = float(input(f\"{i+1}. öğlen kortizol seviyesini giriniz (mikrogram): \"))\n",
    "        toplam_oglen += oglen\n",
    "        \n",
    "        gece = float(input(f\"{i+1}. gece kortizol seviyesini giriniz (mikrogram): \"))\n",
    "        toplam_gece += gece\n",
    "        \n",
    "    except ValueError:\n",
    "        print(\"Lütfen sayı giriniz!\")\n",
    "        exit()\n",
    "\n",
    "ortalama = (toplam_sabah + toplam_oglen + toplam_gece) / 3\n",
    "\n",
    "if ortalama > 100:\n",
    "    print(f\"Ortalama kortizol seviyesi {ortalama} mikrogram. Cushing sendromu olabilir.\")\n",
    "else:\n",
    "    print(f\"Ortalama kortizol seviyesi {ortalama} mikrogram. Cushing sendromu olma olasılığı düşük.\")\n"
   ]
  },
  {
   "cell_type": "code",
   "execution_count": null,
   "id": "4db68994",
   "metadata": {},
   "outputs": [
    {
     "name": "stdout",
     "output_type": "stream",
     "text": [
      "Lütfen sabah, öğlen ve gece için kortizol seviyelerini giriniz:\n"
     ]
    }
   ],
   "source": [
    "def kortizol_hesapla(vakit):\n",
    "    toplam = 0\n",
    "    for i in range(1):  #istersek bir vakit için daha fazla değer girebiliriz\n",
    "        try:\n",
    "            kortizol = float(input(f\"{i+1}. {vakit} kortizol seviyesini giriniz (mikrogram): \"))\n",
    "            toplam += kortizol\n",
    "        except ValueError:\n",
    "            print(\"Lütfen sayı giriniz!\")\n",
    "            return None\n",
    "    return toplam / 1    #burayı da bir vakitte aldığımız değer sayısına böleceğiz\n",
    "\n",
    "def main():\n",
    "    print(\"Lütfen sabah, öğlen ve gece için kortizol seviyelerini giriniz:\")\n",
    "\n",
    "    sabah = kortizol_hesapla(\"sabah\")\n",
    "    oglen = kortizol_hesapla(\"öğlen\")\n",
    "    gece = kortizol_hesapla(\"gece\")\n",
    "\n",
    "    ortalama = (sabah + oglen + gece) / 3 #(vakit sayısı)\n",
    "\n",
    "    if ortalama is not None and ortalama > 100:\n",
    "        print(f\"Ortalama kortizol seviyesi {ortalama} mikrogram. Cushing sendromu olabilir.\")\n",
    "    else:\n",
    "        print(f\"Ortalama kortizol {ortalama} mikrogram. Cushing sendromu olma olasılığı düşük.\")\n",
    "\n",
    "if __name__ == \"__main__\":\n",
    "    main()\n"
   ]
  },
  {
   "cell_type": "code",
   "execution_count": 3,
   "id": "73a85476",
   "metadata": {},
   "outputs": [],
   "source": [
    "import tkinter as tk\n",
    "from tkinter import messagebox\n",
    "\n",
    "def hesapla():\n",
    "    try:\n",
    "        sabah = float(sabah_entry.get())\n",
    "        oglen = float(oglen_entry.get())\n",
    "        gece = float(gece_entry.get())\n",
    "        \n",
    "        ortalama = (sabah + oglen + gece) / 3\n",
    "        if ortalama > 100:\n",
    "            sonuc_label.config(text=f\"Ortalama kortizol seviyesi {ortalama} mikrogram. Cushing sendromu olabilir\")\n",
    "        else:\n",
    "            sonuc_label.config(text=f\"Ortalama kortizol {ortalama} mikrogram. Cushing sendromu olma olasılığı düşük.\")\n",
    "    except ValueError:\n",
    "        messagebox.showerror(\"Hata\", \"Lütfen geçerli sayılar girin.\")\n",
    "\n",
    "app = tk.Tk()\n",
    "app.title(\"Kortizol Hesaplama\")\n",
    "\n",
    "frame = tk.Frame(app, padx=20, pady=20)\n",
    "frame.pack()\n",
    "\n",
    "tk.Label(frame, text=\"Sabah Değeri:\").grid(row=0, column=0)\n",
    "sabah_entry = tk.Entry(frame)\n",
    "sabah_entry.grid(row=0, column=1)\n",
    "\n",
    "tk.Label(frame, text=\"Öğlen Değeri:\").grid(row=1, column=0)\n",
    "oglen_entry = tk.Entry(frame)\n",
    "oglen_entry.grid(row=1, column=1)\n",
    "\n",
    "tk.Label(frame, text=\"Gece Değeri:\").grid(row=2, column=0)\n",
    "gece_entry = tk.Entry(frame)\n",
    "gece_entry.grid(row=2, column=1)\n",
    "\n",
    "hesapla_button = tk.Button(frame, text=\"Hesapla\", command=hesapla)\n",
    "hesapla_button.grid(row=3, columnspan=2, pady=20)\n",
    "\n",
    "sonuc_label = tk.Label(frame, text=\"\", fg=\"red\")\n",
    "sonuc_label.grid(row=4, columnspan=2)\n",
    "\n",
    "hakkimda_label = tk.Label(frame, text=\"Tarık Buğra Akdoğan\\n2110235012\\nİleri Bilgisayar Programlama Ödevi\", padx=20, pady=20)\n",
    "hakkimda_label.grid(row=5, columnspan=2)\n",
    "\n",
    "app.mainloop()"
   ]
  },
  {
   "cell_type": "code",
   "execution_count": null,
   "id": "500a1eea",
   "metadata": {},
   "outputs": [],
   "source": []
  }
 ],
 "metadata": {
  "kernelspec": {
   "display_name": "Python 3 (ipykernel)",
   "language": "python",
   "name": "python3"
  },
  "language_info": {
   "codemirror_mode": {
    "name": "ipython",
    "version": 3
   },
   "file_extension": ".py",
   "mimetype": "text/x-python",
   "name": "python",
   "nbconvert_exporter": "python",
   "pygments_lexer": "ipython3",
   "version": "3.11.5"
  }
 },
 "nbformat": 4,
 "nbformat_minor": 5
}
